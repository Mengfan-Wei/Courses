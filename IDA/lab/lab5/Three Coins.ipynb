{
 "cells": [
  {
   "cell_type": "markdown",
   "id": "09fa5f4a",
   "metadata": {},
   "source": [
    "问题描述（详见lab5.pdf）\n",
    "三枚硬币:$c_1 \\sim Br(\\pi),c_2 \\sim Br(p)，c_3 \\sim Br(q) \\\\$\n",
    "现观察到一组样本X为:\\\\\n",
    "[1,1,0]\\\\\n",
    "求$\\hat{\\theta}=argmax_\\theta p(X|\\theta), \\theta=[\\pi,p,q]$\n",
    "----------------------------------------------------------------------------------"
   ]
  },
  {
   "cell_type": "markdown",
   "id": "28d899cc",
   "metadata": {},
   "source": [
    "step 1: 初始化参数\n"
   ]
  },
  {
   "cell_type": "code",
   "execution_count": 5,
   "id": "17e6043c",
   "metadata": {},
   "outputs": [],
   "source": [
    "import numpy as np\n",
    "def init():\n",
    "    X=np.array([1,1,0], dtype=np.float32)\n",
    "    pi,p,q =0.7,0.3,0.5\n",
    "    return X,pi,p,q"
   ]
  },
  {
   "cell_type": "markdown",
   "id": "e0f16341",
   "metadata": {},
   "source": [
    "step 2: $根据更新公式对参数更新(推导过程见lab5.pdf) \\\\\n",
    "\\pi^{t+1} = \\frac{\\sum_{i=1}^{n}A_i^t}{n}  （1）  \\\\\n",
    "p^{t+1} = \\frac{\\sum_{i=1}^{n}A_i^tX_i}{\\sum_{i=1}^{n}A_i^t} （2） \\\\\n",
    "q^{t+1} = \\frac{\\sum_{i=1}^{n}(1-A_i^t)X_i}{\\sum_{i=1}^{n}(1-A_i^t)}  （3）\\\\\n",
    "其中， A_i^t=\\frac{p_t^{x_i}(1-p_t)^{1-x_i}\\pi_t}{p_t^{x_i}(1-p_t)^{1-x_i}\\pi_t+q_t^{x_i}(1-q_t)^{1-x_i}(1-\\pi_t)} （4）\n",
    "$\n"
   ]
  },
  {
   "cell_type": "code",
   "execution_count": 9,
   "id": "035494c2",
   "metadata": {},
   "outputs": [],
   "source": [
    "# 迭代一次\n",
    "def step_once(X, pi, p, q):\n",
    "    # 初始化A=[0,0,0]\n",
    "    A=np.zeros_like(X)  \n",
    "    n=len(X)\n",
    "    \n",
    "    #根据(4)更新A\n",
    "    for i,x in enumerate(X):\n",
    "        A[i] = (p**x)*((1-p)**(1-x))*pi/((p**x)*((1-p)**(1-x))*pi+(q**x)*((1-q)**(1-x))*(1-pi))\n",
    "        \n",
    "    #根据(1),(2),(3)更新pi,p,q\n",
    "    pi_next = np.sum(A)/ n\n",
    "    p_next = np.sum(A*X) / np.sum(A)\n",
    "    q_next = np.sum((1-A)*X)/np.sum(1-A)\n",
    "    return pi_next,p_next,q_next"
   ]
  },
  {
   "cell_type": "code",
   "execution_count": 10,
   "id": "d45257a3",
   "metadata": {},
   "outputs": [],
   "source": [
    "def EM(X, pi, p, q, iter_num):\n",
    "    for i in range(iter_num):\n",
    "        print(f'pi={pi},p={p},q={q}')\n",
    "        pi,p,q = step_once(X,pi,p,q)\n",
    "        "
   ]
  },
  {
   "cell_type": "code",
   "execution_count": 11,
   "id": "25ae77e5",
   "metadata": {},
   "outputs": [
    {
     "name": "stdout",
     "output_type": "stream",
     "text": [
      "pi=0.7,p=0.3,q=0.5\n",
      "pi=0.6440972089767456,p=0.6037735939025879,q=0.7804878354072571\n",
      "pi=0.6440972089767456,p=0.6037735939025879,q=0.7804878354072571\n",
      "pi=0.6440972089767456,p=0.6037735939025879,q=0.7804878354072571\n",
      "pi=0.6440972089767456,p=0.6037735939025879,q=0.7804878354072571\n"
     ]
    }
   ],
   "source": [
    "iter_num = 5\n",
    "X,pi,p,q = init()\n",
    "EM(X,pi,p,q,iter_num)"
   ]
  },
  {
   "cell_type": "markdown",
   "id": "7e717944",
   "metadata": {},
   "source": [
    "练习：请同学们为pi,p,q设置不同的初值，观察最终收敛后的参数是否相同\n",
    "\n",
    "问题：EM算法是否一定会收敛到最优解？"
   ]
  },
  {
   "cell_type": "code",
   "execution_count": null,
   "id": "891178bb",
   "metadata": {},
   "outputs": [],
   "source": []
  }
 ],
 "metadata": {
  "kernelspec": {
   "display_name": "Python 3",
   "language": "python",
   "name": "python3"
  },
  "language_info": {
   "codemirror_mode": {
    "name": "ipython",
    "version": 3
   },
   "file_extension": ".py",
   "mimetype": "text/x-python",
   "name": "python",
   "nbconvert_exporter": "python",
   "pygments_lexer": "ipython3",
   "version": "3.7.11"
  }
 },
 "nbformat": 4,
 "nbformat_minor": 5
}
