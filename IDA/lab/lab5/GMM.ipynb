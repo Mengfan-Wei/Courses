{
 "cells": [
  {
   "cell_type": "code",
   "execution_count": 15,
   "id": "38f0acf3",
   "metadata": {},
   "outputs": [],
   "source": [
    "import numpy as np\n",
    "import matplotlib.pyplot as plt\n",
    "from scipy.stats import multivariate_normal\n",
    "\n",
    "plt.style.use('seaborn-darkgrid')"
   ]
  },
  {
   "cell_type": "code",
   "execution_count": 2,
   "id": "87a34485",
   "metadata": {},
   "outputs": [],
   "source": [
    "n1,n2,n3=300,400,500"
   ]
  },
  {
   "cell_type": "code",
   "execution_count": 3,
   "id": "2c040ff4",
   "metadata": {},
   "outputs": [],
   "source": [
    "G1=multivariate_normal(mean=[0,0],cov=[[1,0],[0,1]])\n",
    "G2=multivariate_normal(mean=[10,10],cov=[[2,1],[1,2]])\n",
    "G3=multivariate_normal(mean=[20,20],cov=[[2,1],[1,2]])"
   ]
  },
  {
   "cell_type": "code",
   "execution_count": 4,
   "id": "a02c6177",
   "metadata": {},
   "outputs": [],
   "source": [
    "# G1.rvs 表示从分布G1中采样, 参数为采样次数\n",
    "s1=G1.rvs(n1)\n",
    "s2=G2.rvs(n2)\n",
    "s3=G3.rvs(n3)"
   ]
  },
  {
   "cell_type": "code",
   "execution_count": 16,
   "id": "edd8cc66",
   "metadata": {},
   "outputs": [
    {
     "data": {
      "image/png": "[encoded data removed]",
      "text/plain": [
       "<Figure size 432x288 with 1 Axes>"
      ]
     },
     "metadata": {},
     "output_type": "display_data"
    }
   ],
   "source": [
    "#三个颜色分别代表从三个高斯分布中抽样的样本\n",
    "fig=plt.figure()\n",
    "ax=fig.add_subplot(111)\n",
    "ax.scatter(s1[:,0],s1[:,1])\n",
    "ax.scatter(s2[:,0],s2[:,1])\n",
    "ax.scatter(s3[:,0],s3[:,1])\n",
    "plt.show()"
   ]
  },
  {
   "cell_type": "code",
   "execution_count": 6,
   "id": "b9e3d58e",
   "metadata": {},
   "outputs": [
    {
     "data": {
      "text/plain": [
       "(1200, 2)"
      ]
     },
     "execution_count": 6,
     "metadata": {},
     "output_type": "execute_result"
    }
   ],
   "source": [
    "# 将所有点放进集合S中，此后我们不知道点与分布的对应情况\n",
    "S=np.append(s1,s2,axis=0)\n",
    "S=np.append(S,s3,axis=0)\n",
    "S.shape"
   ]
  },
  {
   "cell_type": "code",
   "execution_count": 17,
   "id": "5f448798",
   "metadata": {},
   "outputs": [
    {
     "data": {
      "text/plain": [
       "<matplotlib.collections.PathCollection at 0x7fe442fbb650>"
      ]
     },
     "execution_count": 17,
     "metadata": {},
     "output_type": "execute_result"
    },
    {
     "data": {
      "image/png": "[encoded data removed]",
      "text/plain": [
       "<Figure size 432x288 with 1 Axes>"
      ]
     },
     "metadata": {},
     "output_type": "display_data"
    }
   ],
   "source": [
    "plt.scatter(S[:,0],S[:,1])"
   ]
  },
  {
   "cell_type": "markdown",
   "id": "873ddfc4",
   "metadata": {},
   "source": [
    "$\n",
    "接下来我们用高斯混合模型对S中的点进行分类 \\\\\n",
    "step 1:初始化参数\\pi_1,\\pi_2,\\pi_3,\\mu_1,\\Sigma_1,\\mu_2,\\Sigma_2,\\mu_3,\\Sigma_3 \\\\\n",
    "在初始化\\Sigma时注意保证其正定\n",
    "$"
   ]
  },
  {
   "cell_type": "code",
   "execution_count": 19,
   "id": "202d49c6",
   "metadata": {},
   "outputs": [],
   "source": [
    "def init():\n",
    "    pi_1,pi_2,pi_3=1/4,1/4,1/2\n",
    "    mu_1,sigma_1 = np.array([0.0,0.0]),np.array([[1.0,0.0],[0.0,1.0]])\n",
    "    mu_2,sigma_2 = np.array([5.0,5.0]),np.array([[1.0,0.0],[0.0,1.0]])\n",
    "    mu_3,sigma_3 = np.array([10.0,10.0]),np.array([[1.0,0.0],[0.0,1.0]])\n",
    "    pi=[pi_1,pi_2,pi_3]\n",
    "    mu=[mu_1,mu_2,mu_3]\n",
    "    sigma=[sigma_1,sigma_2,sigma_3]\n",
    "\n",
    "    return pi,mu,sigma\n"
   ]
  },
  {
   "cell_type": "markdown",
   "id": "ecd77309",
   "metadata": {},
   "source": [
    "$\n",
    "接下来对参数进行更新 \\\\\n",
    "\\pi_j^{t+1} = \\frac{\\sum_{i=1}^{n}A_{i,j,t}}{n} (1) \\\\\n",
    "\\mu_j^{t+1} = \\frac{\\sum_{i=1}^{n}A_{i,j,t}X_i}{\\sum_{i=1}^{n}A_{i,j,t}} (2) \\\\\n",
    "\\Sigma_j^{t+1} = \\frac{\\sum_{i=1}^{n}A_{i,j,t}(X_i-\\mu_j^t)(X_i-\\mu_j^t)^T}{\\sum_{i=1}^{n}A_{i,j,t}} (3) \\\\\n",
    "A_{i,j,t}= \\frac{N_j(X_i|\\mu_j^t,\\Sigma_j^t)\\pi_j^t}{\\sum_{j=1}^{3}N_j(X_i|\\mu_j^t,\\Sigma_j^t)\\pi_j^t} (4)\n",
    "$"
   ]
  },
  {
   "cell_type": "code",
   "execution_count": 20,
   "id": "9f34eb1f",
   "metadata": {},
   "outputs": [],
   "source": [
    "def step_once(S,pi,mu,sigma):\n",
    "    n=len(S) #数据集大小\n",
    "    #初始化更新后的pi,mu,sigma, 他们还需要在后面重新赋值\n",
    "    pi_next=pi.copy()\n",
    "    mu_next=mu.copy()\n",
    "    sigma_next=sigma.copy()\n",
    "    # 为j=1,2,3分别初始化A_1,A_2,A_3\n",
    "    A_1 = np.zeros(n,dtype=np.float32)\n",
    "    A_2 = np.zeros(n,dtype=np.float32)\n",
    "    A_3 = np.zeros(n,dtype=np.float32)\n",
    "    A = [A_1,A_2,A_3]\n",
    "    #根据(4)重新初始化 A_1,A_2,A_3\n",
    "    for j in range(3):\n",
    "        for i,x in enumerate(S):\n",
    "            A[j][i] = multivariate_normal(mu[j],sigma[j]).pdf(x)*pi[j]/ \\\n",
    "            (multivariate_normal(mu[0],sigma[0]).pdf(x)*pi[0]+ \\\n",
    "             multivariate_normal(mu[1],sigma[1]).pdf(x)*pi[1]+ \\\n",
    "             multivariate_normal(mu[2],sigma[2]).pdf(x)*pi[2])\n",
    "        #print(A[j].shape)\n",
    "    #根据(1),(2),(3)更新pi,mu,sigma\n",
    "    for j in range(3):\n",
    "        pi_next[j] = np.sum(A[j]) / n\n",
    "        mu_next[j] = np.sum(A[j].reshape(n,-1) * S, axis=0) / np.sum(A[j])\n",
    "        t=np.zeros((2,2)) #(3)中的分子, 需要重新赋值\n",
    "        for i,x in enumerate(S):\n",
    "            x=x.reshape(len(x),-1)\n",
    "            mu_T=mu[j].reshape(len(mu[j]),-1)\n",
    "            t += A[j][i]*(x-mu_T) @ (x-mu_T).T\n",
    "        sigma_next[j] = t/np.sum(A[j])\n",
    "    \n",
    "    return pi_next,mu_next,sigma_next\n",
    "    "
   ]
  },
  {
   "cell_type": "code",
   "execution_count": 21,
   "id": "84963e35",
   "metadata": {},
   "outputs": [
    {
     "name": "stdout",
     "output_type": "stream",
     "text": [
      "初始参数:\n",
      " pi=[0.25, 0.25, 0.5] \n",
      " mu=[array([0., 0.]), array([5., 5.]), array([10., 10.])]\n",
      " sigma=[array([[1., 0.],\n",
      "       [0., 1.]]), array([[1., 0.],\n",
      "       [0., 1.]]), array([[1., 0.],\n",
      "       [0., 1.]])]\n",
      "一次迭代后:\n",
      " pi[0]=0.24958460489908854 \n",
      " pi[1]=0.006214198668797811 \n",
      " pi[2]=0.7442012532552084\n",
      "mu[0]=[-0.04037326 -0.07038119] \n",
      " mu[1]=[6.60971679 6.47031509] \n",
      " mu[2]=[15.75317742 15.69839144]\n",
      "sigma[0]=\n",
      "[[1.12251278e+00 5.81944574e-04]\n",
      " [5.81944574e-04 9.63229530e-01]] \n",
      " sigma[1]=\n",
      "[[4.67283943 3.23750323]\n",
      " [3.23750323 3.75172002]] \n",
      " sigma[2]\n",
      "=[[59.6422528  58.16869299]\n",
      " [58.16869299 58.79423617]]\n"
     ]
    }
   ],
   "source": [
    "pi,mu,sigma=init()\n",
    "print(f'初始参数:\\n pi={pi} \\n mu={mu}\\n sigma={sigma}')\n",
    "pi,mu,sigma=step_once(S,pi,mu,sigma)\n",
    "print(f'一次迭代后:\\n pi[0]={pi[0]} \\n pi[1]={pi[1]} \\n pi[2]={pi[2]}')\n",
    "print(f'mu[0]={mu[0]} \\n mu[1]={mu[1]} \\n mu[2]={mu[2]}')\n",
    "print(f'sigma[0]=\\n{sigma[0]} \\n sigma[1]=\\n{sigma[1]} \\n sigma[2]\\n={sigma[2]}')"
   ]
  },
  {
   "cell_type": "code",
   "execution_count": 22,
   "id": "3c251f09",
   "metadata": {},
   "outputs": [],
   "source": [
    "def EM(S,pi,mu,sigma,iter_num):\n",
    "    for i in range(iter_num):\n",
    "        pi,mu,sigma = step_once(S,pi,mu,sigma)\n",
    "        ''' \n",
    "        同学们可以去掉注释看看更新的过程\n",
    "        if((i+1) % 10 == 0):\n",
    "            print(f'{i+1}次迭代后：\\n pi[0]={pi[0]} \\n pi[1]={pi[1]} \\n pi[2]={pi[2]}')\n",
    "            print(f'mu[0]={mu[0]} \\n mu[1]={mu[1]} \\n mu[2]={mu[2]}')\n",
    "            print(f'sigma[0]=\\n{sigma[0]} \\n sigma[1]=\\n{sigma[1]} \\n sigma[2]\\n={sigma[2]}')\n",
    "        '''\n",
    "    return pi,mu,sigma\n"
   ]
  },
  {
   "cell_type": "code",
   "execution_count": 23,
   "id": "f377d3db",
   "metadata": {
    "scrolled": true
   },
   "outputs": [
    {
     "name": "stdout",
     "output_type": "stream",
     "text": [
      "20次迭代后：\n",
      "mu[0]=[-0.03711534 -0.06517043] \n",
      " mu[1]=[10.11951047 10.08229358] \n",
      " mu[2]=[20.13778938 20.06648889]\n",
      "sigma[0]=\n",
      "[[1.12539988 0.00793965]\n",
      " [0.00793965 0.9730284 ]] \n",
      " sigma[1]=\n",
      "[[1.96418353 1.01009802]\n",
      " [1.01009802 1.93244014]] \n",
      " sigma[2]\n",
      "=[[2.30844513 1.16439587]\n",
      " [1.16439587 2.28993778]]\n"
     ]
    }
   ],
   "source": [
    "iter_num=20\n",
    "pi,mu,sigma = init()\n",
    "pi,mu,sigma=EM(S,pi,mu,sigma,iter_num)\n",
    "print(f'{iter_num}次迭代后：')\n",
    "print(f'mu[0]={mu[0]} \\n mu[1]={mu[1]} \\n mu[2]={mu[2]}')\n",
    "print(f'sigma[0]=\\n{sigma[0]} \\n sigma[1]=\\n{sigma[1]} \\n sigma[2]\\n={sigma[2]}')"
   ]
  },
  {
   "cell_type": "markdown",
   "id": "25639300",
   "metadata": {},
   "source": [
    "$\n",
    "对比初始值可以发现两者已经非常接近了。\\\\\n",
    "\\mu_1=[0,0], \\mu_2=[10,10] , \\mu_3=[20,20],\n",
    "\\Sigma_1 =\n",
    "\\begin{pmatrix}\n",
    "1&0 \\\\\n",
    "0&1\n",
    "\\end{pmatrix},\n",
    "\\Sigma_2 =\n",
    "\\begin{pmatrix}\n",
    "2&1 \\\\\n",
    "1&2\n",
    "\\end{pmatrix},\n",
    "\\Sigma_3 =\n",
    "\\begin{pmatrix}\n",
    "2&1 \\\\\n",
    "1&2\n",
    "\\end{pmatrix} \\\\\n",
    "获得了三个高斯分布的参数后我们就可以对样本进行分类: \\\\\n",
    "对于样本X_i,我们分别计算p0=N_0(X_i|\\mu_0,\\Sigma_0),p1=N_1(X_i|\\mu_1,\\Sigma_1),p2=N_2(X_i|\\mu_2,\\Sigma_2)，若p_i最大，则样本被分为第i类.\n",
    "$"
   ]
  },
  {
   "cell_type": "code",
   "execution_count": 13,
   "id": "e3fb77c3",
   "metadata": {},
   "outputs": [],
   "source": [
    "# 把S中的样本点分类\n",
    "C0=[]\n",
    "C1=[]\n",
    "C2=[]\n",
    "C=[C0,C1,C2]\n",
    "for x in S:\n",
    "    p0 = multivariate_normal(mu[0],sigma[0]).pdf(x)\n",
    "    p1 = multivariate_normal(mu[1],sigma[1]).pdf(x)\n",
    "    p2 = multivariate_normal(mu[2],sigma[2]).pdf(x)\n",
    "    cls = np.argsort([p0,p1,p2])[-1]  #cls:样本所属类别 0 or 1 or 2\n",
    "    C[cls].append(list(x))\n",
    "\n",
    "    "
   ]
  },
  {
   "cell_type": "code",
   "execution_count": 18,
   "id": "d815346a",
   "metadata": {},
   "outputs": [
    {
     "data": {
      "image/png": "[encoded data removed]",
      "text/plain": [
       "<Figure size 432x288 with 1 Axes>"
      ]
     },
     "metadata": {},
     "output_type": "display_data"
    }
   ],
   "source": [
    "#可视化分类结果\n",
    "fig=plt.figure()\n",
    "ax=fig.add_subplot(111)\n",
    "ax.scatter(np.array(C0)[:,0],np.array(C0)[:,1])\n",
    "ax.scatter(np.array(C1)[:,0],np.array(C1)[:,1])\n",
    "ax.scatter(np.array(C2)[:,0],np.array(C2)[:,1])\n",
    "plt.show()"
   ]
  },
  {
   "cell_type": "code",
   "execution_count": null,
   "id": "72780b75",
   "metadata": {},
   "outputs": [],
   "source": []
  }
 ],
 "metadata": {
  "kernelspec": {
   "display_name": "Python 3",
   "language": "python",
   "name": "python3"
  },
  "language_info": {
   "codemirror_mode": {
    "name": "ipython",
    "version": 3
   },
   "file_extension": ".py",
   "mimetype": "text/x-python",
   "name": "python",
   "nbconvert_exporter": "python",
   "pygments_lexer": "ipython3",
   "version": "3.7.11"
  }
 },
 "nbformat": 4,
 "nbformat_minor": 5
}
